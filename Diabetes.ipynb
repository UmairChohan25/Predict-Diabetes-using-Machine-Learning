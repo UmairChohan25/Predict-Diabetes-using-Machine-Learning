{
 "cells": [
  {
   "cell_type": "code",
   "execution_count": 2,
   "id": "fb873196",
   "metadata": {},
   "outputs": [],
   "source": [
    "import pandas as pd\n",
    "import matplotlib.pyplot as plt\n",
    "import seaborn as sns\n",
    "from sklearn.preprocessing import StandardScaler\n",
    "from sklearn.model_selection import train_test_split\n",
    "from sklearn import svm\n",
    "from sklearn.metrics import accuracy_score\n",
    "from sklearn import svm\n",
    "from sklearn.svm import SVC\n",
    "from sklearn.naive_bayes import GaussianNB\n",
    "from sklearn.metrics import accuracy_score\n",
    "import numpy as np\n",
    "from sklearn.naive_bayes import GaussianNB\n",
    "from sklearn.metrics import classification_report\n",
    "from sklearn.metrics import confusion_matrix\n",
    "from sklearn.linear_model import LogisticRegression\n",
    "from sklearn import metrics\n",
    "from sklearn.metrics import confusion_matrix"
   ]
  },
  {
   "cell_type": "code",
   "execution_count": 3,
   "id": "3e135f5a",
   "metadata": {},
   "outputs": [],
   "source": [
    "#Reading the dataset\n",
    "df = pd.read_csv(\"diabetes.csv\")"
   ]
  },
  {
   "cell_type": "code",
   "execution_count": 3,
   "id": "0db1f09b",
   "metadata": {},
   "outputs": [
    {
     "data": {
      "text/html": [
       "<div>\n",
       "<style scoped>\n",
       "    .dataframe tbody tr th:only-of-type {\n",
       "        vertical-align: middle;\n",
       "    }\n",
       "\n",
       "    .dataframe tbody tr th {\n",
       "        vertical-align: top;\n",
       "    }\n",
       "\n",
       "    .dataframe thead th {\n",
       "        text-align: right;\n",
       "    }\n",
       "</style>\n",
       "<table border=\"1\" class=\"dataframe\">\n",
       "  <thead>\n",
       "    <tr style=\"text-align: right;\">\n",
       "      <th></th>\n",
       "      <th>Pregnancies</th>\n",
       "      <th>Glucose</th>\n",
       "      <th>BloodPressure</th>\n",
       "      <th>SkinThickness</th>\n",
       "      <th>Insulin</th>\n",
       "      <th>BMI</th>\n",
       "      <th>DiabetesPedigreeFunction</th>\n",
       "      <th>Age</th>\n",
       "      <th>Outcome</th>\n",
       "    </tr>\n",
       "  </thead>\n",
       "  <tbody>\n",
       "    <tr>\n",
       "      <th>0</th>\n",
       "      <td>6</td>\n",
       "      <td>148</td>\n",
       "      <td>72</td>\n",
       "      <td>35</td>\n",
       "      <td>0</td>\n",
       "      <td>33.6</td>\n",
       "      <td>0.627</td>\n",
       "      <td>50</td>\n",
       "      <td>1</td>\n",
       "    </tr>\n",
       "    <tr>\n",
       "      <th>1</th>\n",
       "      <td>1</td>\n",
       "      <td>85</td>\n",
       "      <td>66</td>\n",
       "      <td>29</td>\n",
       "      <td>0</td>\n",
       "      <td>26.6</td>\n",
       "      <td>0.351</td>\n",
       "      <td>31</td>\n",
       "      <td>0</td>\n",
       "    </tr>\n",
       "    <tr>\n",
       "      <th>2</th>\n",
       "      <td>8</td>\n",
       "      <td>183</td>\n",
       "      <td>64</td>\n",
       "      <td>0</td>\n",
       "      <td>0</td>\n",
       "      <td>23.3</td>\n",
       "      <td>0.672</td>\n",
       "      <td>32</td>\n",
       "      <td>1</td>\n",
       "    </tr>\n",
       "    <tr>\n",
       "      <th>3</th>\n",
       "      <td>1</td>\n",
       "      <td>89</td>\n",
       "      <td>66</td>\n",
       "      <td>23</td>\n",
       "      <td>94</td>\n",
       "      <td>28.1</td>\n",
       "      <td>0.167</td>\n",
       "      <td>21</td>\n",
       "      <td>0</td>\n",
       "    </tr>\n",
       "    <tr>\n",
       "      <th>4</th>\n",
       "      <td>0</td>\n",
       "      <td>137</td>\n",
       "      <td>40</td>\n",
       "      <td>35</td>\n",
       "      <td>168</td>\n",
       "      <td>43.1</td>\n",
       "      <td>2.288</td>\n",
       "      <td>33</td>\n",
       "      <td>1</td>\n",
       "    </tr>\n",
       "  </tbody>\n",
       "</table>\n",
       "</div>"
      ],
      "text/plain": [
       "   Pregnancies  Glucose  BloodPressure  SkinThickness  Insulin   BMI  \\\n",
       "0            6      148             72             35        0  33.6   \n",
       "1            1       85             66             29        0  26.6   \n",
       "2            8      183             64              0        0  23.3   \n",
       "3            1       89             66             23       94  28.1   \n",
       "4            0      137             40             35      168  43.1   \n",
       "\n",
       "   DiabetesPedigreeFunction  Age  Outcome  \n",
       "0                     0.627   50        1  \n",
       "1                     0.351   31        0  \n",
       "2                     0.672   32        1  \n",
       "3                     0.167   21        0  \n",
       "4                     2.288   33        1  "
      ]
     },
     "execution_count": 3,
     "metadata": {},
     "output_type": "execute_result"
    }
   ],
   "source": [
    "# overview of dataset\n",
    "df.head()"
   ]
  },
  {
   "cell_type": "code",
   "execution_count": 4,
   "id": "d5651355",
   "metadata": {},
   "outputs": [
    {
     "data": {
      "text/plain": [
       "Pregnancies                 0\n",
       "Glucose                     0\n",
       "BloodPressure               0\n",
       "SkinThickness               0\n",
       "Insulin                     0\n",
       "BMI                         0\n",
       "DiabetesPedigreeFunction    0\n",
       "Age                         0\n",
       "Outcome                     0\n",
       "dtype: int64"
      ]
     },
     "execution_count": 4,
     "metadata": {},
     "output_type": "execute_result"
    }
   ],
   "source": [
    "# Checking null values\n",
    "df.isnull().sum()"
   ]
  },
  {
   "cell_type": "code",
   "execution_count": 5,
   "id": "c901b368",
   "metadata": {},
   "outputs": [
    {
     "name": "stdout",
     "output_type": "stream",
     "text": [
      "Column Names:\n",
      "Index(['Pregnancies', 'Glucose', 'BloodPressure', 'SkinThickness', 'Insulin',\n",
      "       'BMI', 'DiabetesPedigreeFunction', 'Age', 'Outcome'],\n",
      "      dtype='object')\n",
      "Total Columns: 9\n"
     ]
    }
   ],
   "source": [
    "# To get the total number of columns:\n",
    "total_columns = len(df.columns)\n",
    "print(\"Total Columns:\", total_columns)"
   ]
  },
  {
   "cell_type": "code",
   "execution_count": 6,
   "id": "aa7b76e7",
   "metadata": {},
   "outputs": [
    {
     "data": {
      "text/plain": [
       "Pregnancies                   int64\n",
       "Glucose                       int64\n",
       "BloodPressure                 int64\n",
       "SkinThickness                 int64\n",
       "Insulin                       int64\n",
       "BMI                         float64\n",
       "DiabetesPedigreeFunction    float64\n",
       "Age                           int64\n",
       "Outcome                       int64\n",
       "dtype: object"
      ]
     },
     "execution_count": 6,
     "metadata": {},
     "output_type": "execute_result"
    }
   ],
   "source": [
    "# checking the Data type of attributes\n",
    "df.dtypes"
   ]
  },
  {
   "cell_type": "code",
   "execution_count": 7,
   "id": "ec5716bc",
   "metadata": {},
   "outputs": [
    {
     "data": {
      "text/html": [
       "<div>\n",
       "<style scoped>\n",
       "    .dataframe tbody tr th:only-of-type {\n",
       "        vertical-align: middle;\n",
       "    }\n",
       "\n",
       "    .dataframe tbody tr th {\n",
       "        vertical-align: top;\n",
       "    }\n",
       "\n",
       "    .dataframe thead th {\n",
       "        text-align: right;\n",
       "    }\n",
       "</style>\n",
       "<table border=\"1\" class=\"dataframe\">\n",
       "  <thead>\n",
       "    <tr style=\"text-align: right;\">\n",
       "      <th></th>\n",
       "      <th>BloodPressure</th>\n",
       "      <th>Glucose</th>\n",
       "      <th>SkinThickness</th>\n",
       "      <th>Insulin</th>\n",
       "      <th>BMI</th>\n",
       "      <th>DiabetesPedigreeFunction</th>\n",
       "    </tr>\n",
       "  </thead>\n",
       "  <tbody>\n",
       "    <tr>\n",
       "      <th>0</th>\n",
       "      <td>False</td>\n",
       "      <td>False</td>\n",
       "      <td>False</td>\n",
       "      <td>True</td>\n",
       "      <td>False</td>\n",
       "      <td>False</td>\n",
       "    </tr>\n",
       "    <tr>\n",
       "      <th>1</th>\n",
       "      <td>False</td>\n",
       "      <td>False</td>\n",
       "      <td>False</td>\n",
       "      <td>True</td>\n",
       "      <td>False</td>\n",
       "      <td>False</td>\n",
       "    </tr>\n",
       "    <tr>\n",
       "      <th>2</th>\n",
       "      <td>False</td>\n",
       "      <td>False</td>\n",
       "      <td>True</td>\n",
       "      <td>True</td>\n",
       "      <td>False</td>\n",
       "      <td>False</td>\n",
       "    </tr>\n",
       "    <tr>\n",
       "      <th>3</th>\n",
       "      <td>False</td>\n",
       "      <td>False</td>\n",
       "      <td>False</td>\n",
       "      <td>False</td>\n",
       "      <td>False</td>\n",
       "      <td>False</td>\n",
       "    </tr>\n",
       "    <tr>\n",
       "      <th>4</th>\n",
       "      <td>False</td>\n",
       "      <td>False</td>\n",
       "      <td>False</td>\n",
       "      <td>False</td>\n",
       "      <td>False</td>\n",
       "      <td>False</td>\n",
       "    </tr>\n",
       "    <tr>\n",
       "      <th>...</th>\n",
       "      <td>...</td>\n",
       "      <td>...</td>\n",
       "      <td>...</td>\n",
       "      <td>...</td>\n",
       "      <td>...</td>\n",
       "      <td>...</td>\n",
       "    </tr>\n",
       "    <tr>\n",
       "      <th>763</th>\n",
       "      <td>False</td>\n",
       "      <td>False</td>\n",
       "      <td>False</td>\n",
       "      <td>False</td>\n",
       "      <td>False</td>\n",
       "      <td>False</td>\n",
       "    </tr>\n",
       "    <tr>\n",
       "      <th>764</th>\n",
       "      <td>False</td>\n",
       "      <td>False</td>\n",
       "      <td>False</td>\n",
       "      <td>True</td>\n",
       "      <td>False</td>\n",
       "      <td>False</td>\n",
       "    </tr>\n",
       "    <tr>\n",
       "      <th>765</th>\n",
       "      <td>False</td>\n",
       "      <td>False</td>\n",
       "      <td>False</td>\n",
       "      <td>False</td>\n",
       "      <td>False</td>\n",
       "      <td>False</td>\n",
       "    </tr>\n",
       "    <tr>\n",
       "      <th>766</th>\n",
       "      <td>False</td>\n",
       "      <td>False</td>\n",
       "      <td>True</td>\n",
       "      <td>True</td>\n",
       "      <td>False</td>\n",
       "      <td>False</td>\n",
       "    </tr>\n",
       "    <tr>\n",
       "      <th>767</th>\n",
       "      <td>False</td>\n",
       "      <td>False</td>\n",
       "      <td>False</td>\n",
       "      <td>True</td>\n",
       "      <td>False</td>\n",
       "      <td>False</td>\n",
       "    </tr>\n",
       "  </tbody>\n",
       "</table>\n",
       "<p>768 rows × 6 columns</p>\n",
       "</div>"
      ],
      "text/plain": [
       "     BloodPressure  Glucose  SkinThickness  Insulin    BMI  \\\n",
       "0            False    False          False     True  False   \n",
       "1            False    False          False     True  False   \n",
       "2            False    False           True     True  False   \n",
       "3            False    False          False    False  False   \n",
       "4            False    False          False    False  False   \n",
       "..             ...      ...            ...      ...    ...   \n",
       "763          False    False          False    False  False   \n",
       "764          False    False          False     True  False   \n",
       "765          False    False          False    False  False   \n",
       "766          False    False           True     True  False   \n",
       "767          False    False          False     True  False   \n",
       "\n",
       "     DiabetesPedigreeFunction  \n",
       "0                       False  \n",
       "1                       False  \n",
       "2                       False  \n",
       "3                       False  \n",
       "4                       False  \n",
       "..                        ...  \n",
       "763                     False  \n",
       "764                     False  \n",
       "765                     False  \n",
       "766                     False  \n",
       "767                     False  \n",
       "\n",
       "[768 rows x 6 columns]"
      ]
     },
     "execution_count": 7,
     "metadata": {},
     "output_type": "execute_result"
    }
   ],
   "source": [
    "# There are some values 0. which for sure considered to be missing one\n",
    "df[['BloodPressure','Glucose','SkinThickness','Insulin','BMI','DiabetesPedigreeFunction']]==0"
   ]
  },
  {
   "cell_type": "markdown",
   "id": "f5ba03d3",
   "metadata": {},
   "source": [
    "# Data Preprocessing"
   ]
  },
  {
   "cell_type": "code",
   "execution_count": 8,
   "id": "ea287c7a",
   "metadata": {},
   "outputs": [
    {
     "data": {
      "text/plain": [
       "(768, 9)"
      ]
     },
     "execution_count": 8,
     "metadata": {},
     "output_type": "execute_result"
    }
   ],
   "source": [
    "#shape of the dataset\n",
    "df.shape"
   ]
  },
  {
   "cell_type": "markdown",
   "id": "e8a8b9ed",
   "metadata": {},
   "source": [
    "unique values for each variable in the dataset"
   ]
  },
  {
   "cell_type": "code",
   "execution_count": 9,
   "id": "82cce329",
   "metadata": {},
   "outputs": [
    {
     "name": "stdout",
     "output_type": "stream",
     "text": [
      "[ 72  66  64  40  74  50   0  70  96  92  80  60  84  30  88  90  94  76\n",
      "  82  75  58  78  68 110  56  62  85  86  48  44  65 108  55 122  54  52\n",
      "  98 104  95  46 102 100  61  24  38 106 114]\n",
      "[148  85 183  89 137 116  78 115 197 125 110 168 139 189 166 100 118 107\n",
      " 103 126  99 196 119 143 147  97 145 117 109 158  88  92 122 138 102  90\n",
      " 111 180 133 106 171 159 146  71 105 101 176 150  73 187  84  44 141 114\n",
      "  95 129  79   0  62 131 112 113  74  83 136  80 123  81 134 142 144  93\n",
      " 163 151  96 155  76 160 124 162 132 120 173 170 128 108 154  57 156 153\n",
      " 188 152 104  87  75 179 130 194 181 135 184 140 177 164  91 165  86 193\n",
      " 191 161 167  77 182 157 178  61  98 127  82  72 172  94 175 195  68 186\n",
      " 198 121  67 174 199  56 169 149  65 190]\n",
      "[35 29  0 23 32 45 19 47 38 30 41 33 26 15 36 11 31 37 42 25 18 24 39 27\n",
      " 21 34 10 60 13 20 22 28 54 40 51 56 14 17 50 44 12 46 16  7 52 43 48  8\n",
      " 49 63 99]\n",
      "[  0  94 168  88 543 846 175 230  83  96 235 146 115 140 110 245  54 192\n",
      " 207  70 240  82  36  23 300 342 304 142 128  38 100  90 270  71 125 176\n",
      "  48  64 228  76 220  40 152  18 135 495  37  51  99 145 225  49  50  92\n",
      " 325  63 284 119 204 155 485  53 114 105 285 156  78 130  55  58 160 210\n",
      " 318  44 190 280  87 271 129 120 478  56  32 744 370  45 194 680 402 258\n",
      " 375 150  67  57 116 278 122 545  75  74 182 360 215 184  42 132 148 180\n",
      " 205  85 231  29  68  52 255 171  73 108  43 167 249 293  66 465  89 158\n",
      "  84  72  59  81 196 415 275 165 579 310  61 474 170 277  60  14  95 237\n",
      " 191 328 250 480 265 193  79  86 326 188 106  65 166 274  77 126 330 600\n",
      " 185  25  41 272 321 144  15 183  91  46 440 159 540 200 335 387  22 291\n",
      " 392 178 127 510  16 112]\n",
      "[33.6 26.6 23.3 28.1 43.1 25.6 31.  35.3 30.5  0.  37.6 38.  27.1 30.1\n",
      " 25.8 30.  45.8 29.6 43.3 34.6 39.3 35.4 39.8 29.  36.6 31.1 39.4 23.2\n",
      " 22.2 34.1 36.  31.6 24.8 19.9 27.6 24.  33.2 32.9 38.2 37.1 34.  40.2\n",
      " 22.7 45.4 27.4 42.  29.7 28.  39.1 19.4 24.2 24.4 33.7 34.7 23.  37.7\n",
      " 46.8 40.5 41.5 25.  25.4 32.8 32.5 42.7 19.6 28.9 28.6 43.4 35.1 32.\n",
      " 24.7 32.6 43.2 22.4 29.3 24.6 48.8 32.4 38.5 26.5 19.1 46.7 23.8 33.9\n",
      " 20.4 28.7 49.7 39.  26.1 22.5 39.6 29.5 34.3 37.4 33.3 31.2 28.2 53.2\n",
      " 34.2 26.8 55.  42.9 34.5 27.9 38.3 21.1 33.8 30.8 36.9 39.5 27.3 21.9\n",
      " 40.6 47.9 50.  25.2 40.9 37.2 44.2 29.9 31.9 28.4 43.5 32.7 67.1 45.\n",
      " 34.9 27.7 35.9 22.6 33.1 30.4 52.3 24.3 22.9 34.8 30.9 40.1 23.9 37.5\n",
      " 35.5 42.8 42.6 41.8 35.8 37.8 28.8 23.6 35.7 36.7 45.2 44.  46.2 35.\n",
      " 43.6 44.1 18.4 29.2 25.9 32.1 36.3 40.  25.1 27.5 45.6 27.8 24.9 25.3\n",
      " 37.9 27.  26.  38.7 20.8 36.1 30.7 32.3 52.9 21.  39.7 25.5 26.2 19.3\n",
      " 38.1 23.5 45.5 23.1 39.9 36.8 21.8 41.  42.2 34.4 27.2 36.5 29.8 39.2\n",
      " 38.4 36.2 48.3 20.  22.3 45.7 23.7 22.1 42.1 42.4 18.2 26.4 45.3 37.\n",
      " 24.5 32.2 59.4 21.2 26.7 30.2 46.1 41.3 38.8 35.2 42.3 40.7 46.5 33.5\n",
      " 37.3 30.3 26.3 21.7 36.4 28.5 26.9 38.6 31.3 19.5 20.1 40.8 23.4 28.3\n",
      " 38.9 57.3 35.6 49.6 44.6 24.1 44.5 41.2 49.3 46.3]\n"
     ]
    }
   ],
   "source": [
    "#checking unique values\n",
    "val = ['BloodPressure','Glucose','SkinThickness','Insulin','BMI']\n",
    "for i in val:\n",
    " print(df[i].unique())"
   ]
  },
  {
   "cell_type": "code",
   "execution_count": 10,
   "id": "5bd3d3f3",
   "metadata": {},
   "outputs": [
    {
     "name": "stdout",
     "output_type": "stream",
     "text": [
      "Glucose 5\n",
      "BloodPressure 35\n",
      "SkinThickness 227\n",
      "Insulin 374\n",
      "BMI 11\n",
      "DiabetesPedigreeFunction 0\n"
     ]
    }
   ],
   "source": [
    "# Checking the count of value 0 in the variables\n",
    "val = ['Glucose','BloodPressure','SkinThickness','Insulin','BMI','DiabetesPedigreeFunction']\n",
    "for i in val:\n",
    "    z = 0\n",
    "    for x in (df[i]):\n",
    "        if x == 0:\n",
    "            z = z + 1\n",
    "    print(i,z)"
   ]
  },
  {
   "cell_type": "markdown",
   "id": "b2c6f5c8",
   "metadata": {},
   "source": [
    "In the dataset, it is important to note that the variables, except for Pregnancies and Outcome, cannot logically have a value of 0. This is due to the fact that certain physiological measures, such as Glucose Level and Blood Pressure, cannot be validly recorded as 0. Having a 0 value for such features would be inconsistent with the real-world context and medical understanding.\n",
    "\n",
    "Specifically, variables like Glucose Level, Blood Pressure, Skin Thickness, Insulin, BMI (Body Mass Index), and Diabetes Pedigree Function are all expected to have non-zero values under normal circumstances. Therefore, any occurrence of a value of 0 for these features within the dataset could be indicative of incorrect or incomplete information.\n",
    "\n",
    "As a result, any instances within the dataset where these variables possess a value of 0 should be thoroughly reviewed and treated as potentially erroneous or requiring further investigation. Ensuring accurate and meaningful data is essential for reliable analysis and modeling.\n",
    "\n"
   ]
  },
  {
   "cell_type": "code",
   "execution_count": 11,
   "id": "ddd754df",
   "metadata": {},
   "outputs": [],
   "source": [
    "# Replacing the 0 value in the variables - Glucose, BloodPressure, SkinThickness, Insulin,BMI\n",
    "#replacing the missing values with the mean\n",
    "val = ['Glucose','BloodPressure','SkinThickness','Insulin','BMI']\n",
    "for i in val:\n",
    "    df[i].replace(0,df[i].mean(),inplace=True)\n"
   ]
  },
  {
   "cell_type": "markdown",
   "id": "073c73ec",
   "metadata": {},
   "source": [
    "I have change all the zero values to their column mean. as the data set is already small we need observation to make prediction more precisely.\n",
    "\n",
    "our target varible is baniry where 1 indicate non diabetic and 0 indicate diabetic."
   ]
  },
  {
   "cell_type": "markdown",
   "id": "2180d28b",
   "metadata": {},
   "source": [
    "# EDA"
   ]
  },
  {
   "cell_type": "markdown",
   "id": "5648eee5",
   "metadata": {},
   "source": [
    "During the exploratory data analysis (EDA) phase, I will examine various aspects of the dataset. Firstly, I will investigate the distribution of the data to understand the patterns and variations present in each variable. This will help me identify potential outliers and gain insights into the overall characteristics of the dataset.\n",
    "\n",
    "Subsequently, I will explore the correlations between different features to understand how they are related to each other. This will enable me to identify any strong associations or dependencies between variables, which may be useful for feature selection or engineering.\n",
    "\n",
    "Finally, I will examine the relationship between the target variable (the variable we want to predict or analyze) and the independent variables (features). This step is crucial to determine how each independent variable impacts the target variable. It will provide insights into which features are significant predictors and potentially influence the outcome variable.\n",
    "\n",
    "By conducting a thorough exploratory data analysis, I aim to gain a comprehensive understanding of the dataset and lay the foundation for further analysis, modeling, and decision-making based on the insights obtained."
   ]
  },
  {
   "cell_type": "code",
   "execution_count": 13,
   "id": "4cbba9fd",
   "metadata": {},
   "outputs": [
    {
     "data": {
      "image/png": "[encoded data removed]",
      "text/plain": [
       "<Figure size 400x400 with 1 Axes>"
      ]
     },
     "metadata": {},
     "output_type": "display_data"
    }
   ],
   "source": [
    "\n",
    "\n",
    "plt.figure(figsize=(4, 4))\n",
    "plt.pie(df['Outcome'].value_counts(), labels=['No Diabetes', 'Diabetes'], autopct='%1.1f%%')\n",
    "plt.title('Diabetes Outcome')\n",
    "plt.show()\n"
   ]
  },
  {
   "cell_type": "markdown",
   "id": "cc1358f3",
   "metadata": {},
   "source": [
    "where Percentage of diabetic patients: 34.90 and Percentage of non-diabetic patients: 65.10. as we can see that only 34.90 percent have Diabetes but this is sufficient to make prediction. we can proceed with our target variable. "
   ]
  },
  {
   "cell_type": "markdown",
   "id": "93c0d9b2",
   "metadata": {},
   "source": [
    "### Age Distribution and Diabetes"
   ]
  },
  {
   "cell_type": "code",
   "execution_count": 14,
   "id": "49202a58",
   "metadata": {},
   "outputs": [
    {
     "name": "stderr",
     "output_type": "stream",
     "text": [
      "/home/umairchohan/anaconda3/lib/python3.10/site-packages/seaborn/categorical.py:3544: UserWarning: 6.6% of the points cannot be placed; you may want to decrease the size of the markers or use stripplot.\n",
      "  warnings.warn(msg, UserWarning)\n"
     ]
    },
    {
     "data": {
      "text/plain": [
       "<seaborn.axisgrid.FacetGrid at 0x7f675604caf0>"
      ]
     },
     "execution_count": 14,
     "metadata": {},
     "output_type": "execute_result"
    },
    {
     "name": "stderr",
     "output_type": "stream",
     "text": [
      "/home/umairchohan/anaconda3/lib/python3.10/site-packages/seaborn/categorical.py:3544: UserWarning: 22.4% of the points cannot be placed; you may want to decrease the size of the markers or use stripplot.\n",
      "  warnings.warn(msg, UserWarning)\n"
     ]
    },
    {
     "data": {
      "image/png": "[encoded data removed]",
      "text/plain": [
       "<Figure size 500x500 with 1 Axes>"
      ]
     },
     "metadata": {},
     "output_type": "display_data"
    }
   ],
   "source": [
    "sns.catplot(x=\"Outcome\", y=\"Age\", kind=\"swarm\", data=df)"
   ]
  },
  {
   "cell_type": "markdown",
   "id": "d399caf3",
   "metadata": {},
   "source": [
    "The graphical representation indicates a noticeable trend in the dataset. The majority of patients fall within the age group of 20 to 30 years, suggesting a higher representation of young adults. However, it is observed that individuals aged between 40 and 55 years are more susceptible to diabetes compared to other age groups. As a result, the number of diabetic patients is higher in this age range.\n",
    "\n",
    "The larger population of adults in the 20-30 years age group also contributes to a higher count of patients with diabetes in this category, despite a lower prevalence of diabetes in this specific age range. This highlights the significance of age as a contributing factor to diabetes prevalence.\n",
    "\n",
    "Overall, the analysis indicates the importance of age in understanding the distribution of diabetes among patients and emphasizes the need to consider age-related patterns while interpreting the dataset."
   ]
  },
  {
   "cell_type": "markdown",
   "id": "60b087ef",
   "metadata": {},
   "source": [
    "### Glucose and Diabetes"
   ]
  },
  {
   "cell_type": "code",
   "execution_count": 15,
   "id": "6e1f79f9",
   "metadata": {},
   "outputs": [
    {
     "data": {
      "text/plain": [
       "Text(0.5, 1.0, 'Glucose vs Diabetes')"
      ]
     },
     "execution_count": 15,
     "metadata": {},
     "output_type": "execute_result"
    },
    {
     "data": {
      "image/png": "[encoded data removed]",
      "text/plain": [
       "<Figure size 640x480 with 1 Axes>"
      ]
     },
     "metadata": {},
     "output_type": "display_data"
    }
   ],
   "source": [
    "sns.boxplot(x='Outcome', y='Glucose', data=df).set_title('Glucose vs Diabetes')"
   ]
  },
  {
   "cell_type": "markdown",
   "id": "a87f68c8",
   "metadata": {},
   "source": [
    "Glucose level appears to be a crucial factor in distinguishing between diabetic and non-diabetic patients. Patients with a median glucose level below 120 are more likely to be non-diabetic, while those with a median glucose level above 140 are more likely to be diabetic. This indicates that higher glucose levels can serve as a strong indicator of diabetes.\n",
    "\n",
    "The analysis emphasizes the significance of glucose level as a reliable predictor of diabetes status. Patients with elevated glucose levels should be closely monitored and considered at higher risk for diabetes, while those with lower glucose levels may have a lower likelihood of being diabetic. It highlights the importance of glucose level assessments in diagnosing and managing diabetes.\n"
   ]
  },
  {
   "cell_type": "markdown",
   "id": "b433a1a8",
   "metadata": {},
   "source": [
    "### Blood Pressuse and Diabetes"
   ]
  },
  {
   "cell_type": "code",
   "execution_count": 16,
   "id": "2863e1de",
   "metadata": {},
   "outputs": [
    {
     "data": {
      "image/png": "[encoded data removed]",
      "text/plain": [
       "<Figure size 640x480 with 1 Axes>"
      ]
     },
     "metadata": {},
     "output_type": "display_data"
    }
   ],
   "source": [
    "\n",
    "# Create the box plot\n",
    "sns.boxplot(x='Outcome',y='BloodPressure', data=df).set_title('Blood Pressure Box Plot')\n"
   ]
  },
  {
   "cell_type": "markdown",
   "id": "629dac48",
   "metadata": {},
   "source": [
    "The boxplot analysis provides valuable insights into the relationship between blood pressure and diabetes. It shows that the median blood pressure for diabetic patients is slightly higher than for non-diabetic patients. However, based on the available evidence, we cannot firmly conclude that blood pressure alone is a strong predictor of diabetes. Further analysis and examination of other relevant factors are required to make a more conclusive determination."
   ]
  },
  {
   "cell_type": "markdown",
   "id": "fe3dedb1",
   "metadata": {},
   "source": [
    "### Skin Thickness and Diabetes"
   ]
  },
  {
   "cell_type": "code",
   "execution_count": 17,
   "id": "1d293af9",
   "metadata": {},
   "outputs": [
    {
     "data": {
      "text/plain": [
       "Text(0.5, 1.0, 'SkinThickness Boxplot')"
      ]
     },
     "execution_count": 17,
     "metadata": {},
     "output_type": "execute_result"
    },
    {
     "data": {
      "image/png": "[encoded data removed]",
      "text/plain": [
       "<Figure size 640x480 with 1 Axes>"
      ]
     },
     "metadata": {},
     "output_type": "display_data"
    }
   ],
   "source": [
    "sns.boxplot(x='Outcome', y='SkinThickness', data=df).set_title('SkinThickness Boxplot')"
   ]
  },
  {
   "cell_type": "markdown",
   "id": "fc5f9169",
   "metadata": {},
   "source": [
    "The boxplot provides insights into the relationship between diabetes and skin thickness. According to the boxplot, the median skin thickness is higher for diabetic patients compared to non-diabetic patients. Non-diabetic patients have a median skin thickness around 20, whereas diabetic patients have a median skin thickness around 30. This suggests that skin thickness tends to be greater in diabetic individuals.\n",
    "\n",
    "The boxplot also indicates that the distribution of skin thickness for diabetic patients has a more extended upper tail, with increased values near 30, while non-diabetic patients have a more concentrated distribution around 20. This variation in distribution implies that skin thickness can potentially serve as an indicator of diabetes."
   ]
  },
  {
   "cell_type": "markdown",
   "id": "3f62efa6",
   "metadata": {},
   "source": [
    "### Insulin and Diabetes"
   ]
  },
  {
   "cell_type": "code",
   "execution_count": 18,
   "id": "acc7dd16",
   "metadata": {},
   "outputs": [
    {
     "data": {
      "text/plain": [
       "Text(0.5, 1.0, 'Insulin vs Diabetes')"
      ]
     },
     "execution_count": 18,
     "metadata": {},
     "output_type": "execute_result"
    },
    {
     "data": {
      "image/png": "[encoded data removed]",
      "text/plain": [
       "<Figure size 640x480 with 1 Axes>"
      ]
     },
     "metadata": {},
     "output_type": "display_data"
    }
   ],
   "source": [
    "sns.boxplot(x='Outcome',y='Insulin',data=df).set_title('Insulin vs Diabetes')"
   ]
  },
  {
   "cell_type": "markdown",
   "id": "e7ba9edc",
   "metadata": {},
   "source": [
    "Insulin is a crucial hormone that plays a significant role in regulating glucose metabolism. It facilitates the body's efficient utilization of sugars, fats, and proteins. Any alteration in the insulin levels can lead to changes in glucose levels as well. Both the boxplot and the data analysis reveal the distribution of insulin levels in patients.\n",
    "\n",
    "For non-diabetic patients, the insulin level is clustered around 100, whereas in diabetic patients, it is concentrated around 200. The boxplot highlights the difference in median insulin levels between the two groups. Non-diabetic patients have lower median insulin levels compared to diabetic patients.\n",
    "\n",
    "The boxplot also illustrates that the distribution of insulin levels is more spread out around 100 for non-diabetic patients, while for diabetic patients, it is more contracted with some spread in higher insulin levels.\n",
    "\n",
    "Based on this analysis, it appears that insulin level could serve as a reliable indicator of diabetes."
   ]
  },
  {
   "cell_type": "markdown",
   "id": "563b2018",
   "metadata": {},
   "source": [
    "\n",
    "### BMI and Diabetes"
   ]
  },
  {
   "cell_type": "code",
   "execution_count": 19,
   "id": "df6d5a1b",
   "metadata": {},
   "outputs": [
    {
     "data": {
      "text/plain": [
       "Text(0.5, 1.0, 'BMI vs Diabetes')"
      ]
     },
     "execution_count": 19,
     "metadata": {},
     "output_type": "execute_result"
    },
    {
     "data": {
      "image/png": "[encoded data removed]",
      "text/plain": [
       "<Figure size 640x480 with 1 Axes>"
      ]
     },
     "metadata": {},
     "output_type": "display_data"
    }
   ],
   "source": [
    "sns.boxplot(x='Outcome',y='BMI',data=df).set_title('BMI vs Diabetes')"
   ]
  },
  {
   "cell_type": "markdown",
   "id": "85c3157f",
   "metadata": {},
   "source": [
    "The boxplot analysis emphasizes the significance of BMI in predicting diabetes. Non-diabetic patients tend to have a normal BMI, falling within the range of 25 to 35. In contrast, diabetic patients have a higher BMI, typically greater than 35, indicating a higher prevalence of obesity among diabetic individuals.\n",
    "\n",
    "The boxplot allows us to observe the difference in median BMI between the two groups. Non-diabetic patients have a lower median BMI compared to diabetic patients.\n",
    "\n",
    "BMI's role in diabetes prediction is evident from the analysis. Obese individuals, with a BMI exceeding 35, are more likely to be diabetic, while non-diabetic patients typically have a BMI within the normal range."
   ]
  },
  {
   "cell_type": "markdown",
   "id": "bf59b0b5",
   "metadata": {},
   "source": [
    "### Diabetes Pedigree Function and Diabetes Outcome"
   ]
  },
  {
   "cell_type": "code",
   "execution_count": 20,
   "id": "38977db4",
   "metadata": {},
   "outputs": [
    {
     "data": {
      "text/plain": [
       "Text(0.5, 1.0, 'DiabetesPedigreeFunction vs Diabetes')"
      ]
     },
     "execution_count": 20,
     "metadata": {},
     "output_type": "execute_result"
    },
    {
     "data": {
      "image/png": "[encoded data removed]",
      "text/plain": [
       "<Figure size 640x480 with 1 Axes>"
      ]
     },
     "metadata": {},
     "output_type": "display_data"
    }
   ],
   "source": [
    "sns.boxplot(x='Outcome',y='DiabetesPedigreeFunction',data=df).set_title('DiabetesPedigreeFunction vs Diabetes')"
   ]
  },
  {
   "cell_type": "markdown",
   "id": "3ebdb57c",
   "metadata": {},
   "source": [
    "the role of Diabetes Pedigree Function (DPF) in predicting diabetes likelihood. Patients with lower DPF values are significantly less likely to have diabetes, while those with higher DPF values are much more likely to be diabetic.\n",
    "\n",
    "The boxplot reveals the difference in median DPF values between non-diabetic and diabetic patients. Non-diabetic patients typically have lower median DPF values compared to diabetic patients.\n",
    "\n",
    "Based on the boxplot analysis, it is evident that DPF is a good indicator of diabetes. A higher DPF value is associated with an increased likelihood of having diabetes. In contrast, non-diabetic patients tend to have lower DPF values, indicating a reduced probability of being diabetic.\n",
    "\\section{Visualization results}\n",
    "summary provides valuable insights into how the mean values of different attributes vary between patients with and without diabetes (Outcome = 1 and Outcome = 0, respectively). It allows us to observe potential differences in attribute values that might be associated with the presence or absence of diabetes. For example, we can see that patients with diabetes tend to have higher mean values for \"Glucose,\" \"BloodPressure,\" \"SkinThickness,\" \"Insulin,\" \"BMI,\" \"DiabetesPedigreeFunction,\" and \"Age\" compared to those without diabetes."
   ]
  },
  {
   "cell_type": "code",
   "execution_count": 21,
   "id": "269506cb",
   "metadata": {},
   "outputs": [
    {
     "data": {
      "text/html": [
       "<div>\n",
       "<style scoped>\n",
       "    .dataframe tbody tr th:only-of-type {\n",
       "        vertical-align: middle;\n",
       "    }\n",
       "\n",
       "    .dataframe tbody tr th {\n",
       "        vertical-align: top;\n",
       "    }\n",
       "\n",
       "    .dataframe thead th {\n",
       "        text-align: right;\n",
       "    }\n",
       "</style>\n",
       "<table border=\"1\" class=\"dataframe\">\n",
       "  <thead>\n",
       "    <tr style=\"text-align: right;\">\n",
       "      <th></th>\n",
       "      <th>Pregnancies</th>\n",
       "      <th>Glucose</th>\n",
       "      <th>BloodPressure</th>\n",
       "      <th>SkinThickness</th>\n",
       "      <th>Insulin</th>\n",
       "      <th>BMI</th>\n",
       "      <th>DiabetesPedigreeFunction</th>\n",
       "      <th>Age</th>\n",
       "      <th>Outcome</th>\n",
       "    </tr>\n",
       "  </thead>\n",
       "  <tbody>\n",
       "    <tr>\n",
       "      <th>count</th>\n",
       "      <td>768.000000</td>\n",
       "      <td>768.000000</td>\n",
       "      <td>768.000000</td>\n",
       "      <td>768.000000</td>\n",
       "      <td>768.000000</td>\n",
       "      <td>768.000000</td>\n",
       "      <td>768.000000</td>\n",
       "      <td>768.000000</td>\n",
       "      <td>768.000000</td>\n",
       "    </tr>\n",
       "    <tr>\n",
       "      <th>mean</th>\n",
       "      <td>3.845052</td>\n",
       "      <td>121.681605</td>\n",
       "      <td>72.254807</td>\n",
       "      <td>26.606479</td>\n",
       "      <td>118.660163</td>\n",
       "      <td>32.450805</td>\n",
       "      <td>0.471876</td>\n",
       "      <td>33.240885</td>\n",
       "      <td>0.348958</td>\n",
       "    </tr>\n",
       "    <tr>\n",
       "      <th>std</th>\n",
       "      <td>3.369578</td>\n",
       "      <td>30.436016</td>\n",
       "      <td>12.115932</td>\n",
       "      <td>9.631241</td>\n",
       "      <td>93.080358</td>\n",
       "      <td>6.875374</td>\n",
       "      <td>0.331329</td>\n",
       "      <td>11.760232</td>\n",
       "      <td>0.476951</td>\n",
       "    </tr>\n",
       "    <tr>\n",
       "      <th>min</th>\n",
       "      <td>0.000000</td>\n",
       "      <td>44.000000</td>\n",
       "      <td>24.000000</td>\n",
       "      <td>7.000000</td>\n",
       "      <td>14.000000</td>\n",
       "      <td>18.200000</td>\n",
       "      <td>0.078000</td>\n",
       "      <td>21.000000</td>\n",
       "      <td>0.000000</td>\n",
       "    </tr>\n",
       "    <tr>\n",
       "      <th>25%</th>\n",
       "      <td>1.000000</td>\n",
       "      <td>99.750000</td>\n",
       "      <td>64.000000</td>\n",
       "      <td>20.536458</td>\n",
       "      <td>79.799479</td>\n",
       "      <td>27.500000</td>\n",
       "      <td>0.243750</td>\n",
       "      <td>24.000000</td>\n",
       "      <td>0.000000</td>\n",
       "    </tr>\n",
       "    <tr>\n",
       "      <th>50%</th>\n",
       "      <td>3.000000</td>\n",
       "      <td>117.000000</td>\n",
       "      <td>72.000000</td>\n",
       "      <td>23.000000</td>\n",
       "      <td>79.799479</td>\n",
       "      <td>32.000000</td>\n",
       "      <td>0.372500</td>\n",
       "      <td>29.000000</td>\n",
       "      <td>0.000000</td>\n",
       "    </tr>\n",
       "    <tr>\n",
       "      <th>75%</th>\n",
       "      <td>6.000000</td>\n",
       "      <td>140.250000</td>\n",
       "      <td>80.000000</td>\n",
       "      <td>32.000000</td>\n",
       "      <td>127.250000</td>\n",
       "      <td>36.600000</td>\n",
       "      <td>0.626250</td>\n",
       "      <td>41.000000</td>\n",
       "      <td>1.000000</td>\n",
       "    </tr>\n",
       "    <tr>\n",
       "      <th>max</th>\n",
       "      <td>17.000000</td>\n",
       "      <td>199.000000</td>\n",
       "      <td>122.000000</td>\n",
       "      <td>99.000000</td>\n",
       "      <td>846.000000</td>\n",
       "      <td>67.100000</td>\n",
       "      <td>2.420000</td>\n",
       "      <td>81.000000</td>\n",
       "      <td>1.000000</td>\n",
       "    </tr>\n",
       "  </tbody>\n",
       "</table>\n",
       "</div>"
      ],
      "text/plain": [
       "       Pregnancies     Glucose  BloodPressure  SkinThickness     Insulin  \\\n",
       "count   768.000000  768.000000     768.000000     768.000000  768.000000   \n",
       "mean      3.845052  121.681605      72.254807      26.606479  118.660163   \n",
       "std       3.369578   30.436016      12.115932       9.631241   93.080358   \n",
       "min       0.000000   44.000000      24.000000       7.000000   14.000000   \n",
       "25%       1.000000   99.750000      64.000000      20.536458   79.799479   \n",
       "50%       3.000000  117.000000      72.000000      23.000000   79.799479   \n",
       "75%       6.000000  140.250000      80.000000      32.000000  127.250000   \n",
       "max      17.000000  199.000000     122.000000      99.000000  846.000000   \n",
       "\n",
       "              BMI  DiabetesPedigreeFunction         Age     Outcome  \n",
       "count  768.000000                768.000000  768.000000  768.000000  \n",
       "mean    32.450805                  0.471876   33.240885    0.348958  \n",
       "std      6.875374                  0.331329   11.760232    0.476951  \n",
       "min     18.200000                  0.078000   21.000000    0.000000  \n",
       "25%     27.500000                  0.243750   24.000000    0.000000  \n",
       "50%     32.000000                  0.372500   29.000000    0.000000  \n",
       "75%     36.600000                  0.626250   41.000000    1.000000  \n",
       "max     67.100000                  2.420000   81.000000    1.000000  "
      ]
     },
     "execution_count": 21,
     "metadata": {},
     "output_type": "execute_result"
    }
   ],
   "source": [
    "# Get statistical summary of the numeric columns\n",
    "df.describe()\n"
   ]
  },
  {
   "cell_type": "markdown",
   "id": "b7504d58",
   "metadata": {},
   "source": [
    "df.to_csv('filled_data.csv', index=False)\n"
   ]
  },
  {
   "cell_type": "code",
   "execution_count": 23,
   "id": "df96f8fd",
   "metadata": {},
   "outputs": [
    {
     "data": {
      "text/html": [
       "<div>\n",
       "<style scoped>\n",
       "    .dataframe tbody tr th:only-of-type {\n",
       "        vertical-align: middle;\n",
       "    }\n",
       "\n",
       "    .dataframe tbody tr th {\n",
       "        vertical-align: top;\n",
       "    }\n",
       "\n",
       "    .dataframe thead th {\n",
       "        text-align: right;\n",
       "    }\n",
       "</style>\n",
       "<table border=\"1\" class=\"dataframe\">\n",
       "  <thead>\n",
       "    <tr style=\"text-align: right;\">\n",
       "      <th></th>\n",
       "      <th>Pregnancies</th>\n",
       "      <th>Glucose</th>\n",
       "      <th>BloodPressure</th>\n",
       "      <th>SkinThickness</th>\n",
       "      <th>Insulin</th>\n",
       "      <th>BMI</th>\n",
       "      <th>DiabetesPedigreeFunction</th>\n",
       "      <th>Age</th>\n",
       "      <th>Outcome</th>\n",
       "    </tr>\n",
       "  </thead>\n",
       "  <tbody>\n",
       "    <tr>\n",
       "      <th>0</th>\n",
       "      <td>6</td>\n",
       "      <td>148.0</td>\n",
       "      <td>72.0</td>\n",
       "      <td>35.000000</td>\n",
       "      <td>79.799479</td>\n",
       "      <td>33.6</td>\n",
       "      <td>0.627</td>\n",
       "      <td>50</td>\n",
       "      <td>1</td>\n",
       "    </tr>\n",
       "    <tr>\n",
       "      <th>1</th>\n",
       "      <td>1</td>\n",
       "      <td>85.0</td>\n",
       "      <td>66.0</td>\n",
       "      <td>29.000000</td>\n",
       "      <td>79.799479</td>\n",
       "      <td>26.6</td>\n",
       "      <td>0.351</td>\n",
       "      <td>31</td>\n",
       "      <td>0</td>\n",
       "    </tr>\n",
       "    <tr>\n",
       "      <th>2</th>\n",
       "      <td>8</td>\n",
       "      <td>183.0</td>\n",
       "      <td>64.0</td>\n",
       "      <td>20.536458</td>\n",
       "      <td>79.799479</td>\n",
       "      <td>23.3</td>\n",
       "      <td>0.672</td>\n",
       "      <td>32</td>\n",
       "      <td>1</td>\n",
       "    </tr>\n",
       "    <tr>\n",
       "      <th>3</th>\n",
       "      <td>1</td>\n",
       "      <td>89.0</td>\n",
       "      <td>66.0</td>\n",
       "      <td>23.000000</td>\n",
       "      <td>94.000000</td>\n",
       "      <td>28.1</td>\n",
       "      <td>0.167</td>\n",
       "      <td>21</td>\n",
       "      <td>0</td>\n",
       "    </tr>\n",
       "    <tr>\n",
       "      <th>4</th>\n",
       "      <td>0</td>\n",
       "      <td>137.0</td>\n",
       "      <td>40.0</td>\n",
       "      <td>35.000000</td>\n",
       "      <td>168.000000</td>\n",
       "      <td>43.1</td>\n",
       "      <td>2.288</td>\n",
       "      <td>33</td>\n",
       "      <td>1</td>\n",
       "    </tr>\n",
       "  </tbody>\n",
       "</table>\n",
       "</div>"
      ],
      "text/plain": [
       "   Pregnancies  Glucose  BloodPressure  SkinThickness     Insulin   BMI  \\\n",
       "0            6    148.0           72.0      35.000000   79.799479  33.6   \n",
       "1            1     85.0           66.0      29.000000   79.799479  26.6   \n",
       "2            8    183.0           64.0      20.536458   79.799479  23.3   \n",
       "3            1     89.0           66.0      23.000000   94.000000  28.1   \n",
       "4            0    137.0           40.0      35.000000  168.000000  43.1   \n",
       "\n",
       "   DiabetesPedigreeFunction  Age  Outcome  \n",
       "0                     0.627   50        1  \n",
       "1                     0.351   31        0  \n",
       "2                     0.672   32        1  \n",
       "3                     0.167   21        0  \n",
       "4                     2.288   33        1  "
      ]
     },
     "execution_count": 23,
     "metadata": {},
     "output_type": "execute_result"
    }
   ],
   "source": [
    "df.head()"
   ]
  },
  {
   "cell_type": "markdown",
   "id": "36cd94c5",
   "metadata": {},
   "source": [
    "### Correleation Matrix"
   ]
  },
  {
   "cell_type": "code",
   "execution_count": 26,
   "id": "d434c9b5",
   "metadata": {},
   "outputs": [
    {
     "data": {
      "image/png": "[encoded data removed]",
      "text/plain": [
       "<Figure size 1000x800 with 2 Axes>"
      ]
     },
     "metadata": {},
     "output_type": "display_data"
    }
   ],
   "source": [
    "# Correlation heatmap to see the relationship between variables\n",
    "plt.figure(figsize=(10, 8))\n",
    "sns.heatmap(df.corr(), annot=True, cmap='coolwarm', fmt='.2f')\n",
    "plt.title('Correlation Heatmap')\n",
    "plt.show()\n"
   ]
  },
  {
   "cell_type": "markdown",
   "id": "8a49dd05",
   "metadata": {},
   "source": [
    "The correlation matrix is a powerful tool that allows us to visualize the relationships between different attributes or columns in the dataset. By examining the correlation values, we can gain insights into how strongly one attribute is related to another.\n",
    "\n",
    "- The correlation between \"Glucose\" and \"Outcome\" is 0.49, indicating a moderate positive correlation. This suggests that the \"Glucose\" attribute plays an important role in predicting whether a patient has diabetes or not. As the glucose concentration increases, the likelihood of diabetes also tends to increase.\n",
    "\n",
    "- Similarly, the correlation between \"Insulin\" and \"Glucose\" is 0.42, which shows a moderate positive correlation. This means that the level of insulin in the blood tends to increase as the glucose concentration increases.\n",
    "\n",
    "- The correlation of 0.54 between \"Pregnancies\" and \"Age\" indicates a moderate positive relationship. This suggests that as the number of pregnancies increases, the patient's age is also likely to be higher.\n",
    "\n",
    "- On the other hand, the rest of the attributes do not exhibit significant correlations with each other, meaning that they are relatively independent of one another."
   ]
  },
  {
   "cell_type": "markdown",
   "id": "4e1c6b24",
   "metadata": {},
   "source": [
    "### To get deep comparsion of mean of all attributes as we saw in boxplot visualization"
   ]
  },
  {
   "cell_type": "code",
   "execution_count": 27,
   "id": "861c08f9",
   "metadata": {},
   "outputs": [
    {
     "data": {
      "text/html": [
       "<div>\n",
       "<style scoped>\n",
       "    .dataframe tbody tr th:only-of-type {\n",
       "        vertical-align: middle;\n",
       "    }\n",
       "\n",
       "    .dataframe tbody tr th {\n",
       "        vertical-align: top;\n",
       "    }\n",
       "\n",
       "    .dataframe thead th {\n",
       "        text-align: right;\n",
       "    }\n",
       "</style>\n",
       "<table border=\"1\" class=\"dataframe\">\n",
       "  <thead>\n",
       "    <tr style=\"text-align: right;\">\n",
       "      <th></th>\n",
       "      <th>Pregnancies</th>\n",
       "      <th>Glucose</th>\n",
       "      <th>BloodPressure</th>\n",
       "      <th>SkinThickness</th>\n",
       "      <th>Insulin</th>\n",
       "      <th>BMI</th>\n",
       "      <th>DiabetesPedigreeFunction</th>\n",
       "      <th>Age</th>\n",
       "    </tr>\n",
       "    <tr>\n",
       "      <th>Outcome</th>\n",
       "      <th></th>\n",
       "      <th></th>\n",
       "      <th></th>\n",
       "      <th></th>\n",
       "      <th></th>\n",
       "      <th></th>\n",
       "      <th></th>\n",
       "      <th></th>\n",
       "    </tr>\n",
       "  </thead>\n",
       "  <tbody>\n",
       "    <tr>\n",
       "      <th>0</th>\n",
       "      <td>3.298000</td>\n",
       "      <td>110.705367</td>\n",
       "      <td>70.810008</td>\n",
       "      <td>25.373135</td>\n",
       "      <td>106.457354</td>\n",
       "      <td>30.880066</td>\n",
       "      <td>0.429734</td>\n",
       "      <td>31.190000</td>\n",
       "    </tr>\n",
       "    <tr>\n",
       "      <th>1</th>\n",
       "      <td>4.865672</td>\n",
       "      <td>142.159661</td>\n",
       "      <td>74.950326</td>\n",
       "      <td>28.907494</td>\n",
       "      <td>141.426597</td>\n",
       "      <td>35.381288</td>\n",
       "      <td>0.550500</td>\n",
       "      <td>37.067164</td>\n",
       "    </tr>\n",
       "  </tbody>\n",
       "</table>\n",
       "</div>"
      ],
      "text/plain": [
       "         Pregnancies     Glucose  BloodPressure  SkinThickness     Insulin  \\\n",
       "Outcome                                                                      \n",
       "0           3.298000  110.705367      70.810008      25.373135  106.457354   \n",
       "1           4.865672  142.159661      74.950326      28.907494  141.426597   \n",
       "\n",
       "               BMI  DiabetesPedigreeFunction        Age  \n",
       "Outcome                                                  \n",
       "0        30.880066                  0.429734  31.190000  \n",
       "1        35.381288                  0.550500  37.067164  "
      ]
     },
     "execution_count": 27,
     "metadata": {},
     "output_type": "execute_result"
    }
   ],
   "source": [
    "df.groupby('Outcome').mean()"
   ]
  },
  {
   "cell_type": "markdown",
   "id": "ba85ab9c",
   "metadata": {},
   "source": [
    "### preparing the data set for Machine learning modelling"
   ]
  },
  {
   "cell_type": "code",
   "execution_count": 28,
   "id": "17584b7c",
   "metadata": {},
   "outputs": [],
   "source": [
    "# separating the data and labels\n",
    "X = df.drop(columns = 'Outcome', axis=1)\n",
    "Y = df['Outcome']"
   ]
  },
  {
   "cell_type": "code",
   "execution_count": 29,
   "id": "31911214",
   "metadata": {},
   "outputs": [],
   "source": [
    "scaler = StandardScaler()\n",
    "scaler.fit(X)\n",
    "standardized_data = scaler.transform(X)"
   ]
  },
  {
   "cell_type": "code",
   "execution_count": 30,
   "id": "86277411",
   "metadata": {},
   "outputs": [],
   "source": [
    "X = standardized_data\n",
    "Y = df['Outcome']"
   ]
  },
  {
   "cell_type": "code",
   "execution_count": 31,
   "id": "b8bc29ff",
   "metadata": {},
   "outputs": [],
   "source": [
    "X_train, X_test, Y_train, Y_test = train_test_split(X,Y, test_size = 0.2, stratify=Y, random_state=2)"
   ]
  },
  {
   "cell_type": "markdown",
   "id": "d126d2fb",
   "metadata": {},
   "source": [
    "# svm"
   ]
  },
  {
   "cell_type": "code",
   "execution_count": 35,
   "id": "b9cbf092",
   "metadata": {},
   "outputs": [],
   "source": [
    "#building model\n",
    "\n",
    "svm = SVC(kernel='linear', random_state=0)\n"
   ]
  },
  {
   "cell_type": "code",
   "execution_count": 36,
   "id": "e5fa672c",
   "metadata": {},
   "outputs": [
    {
     "data": {
      "text/html": [
       "<style>#sk-container-id-1 {color: black;background-color: white;}#sk-container-id-1 pre{padding: 0;}#sk-container-id-1 div.sk-toggleable {background-color: white;}#sk-container-id-1 label.sk-toggleable__label {cursor: pointer;display: block;width: 100%;margin-bottom: 0;padding: 0.3em;box-sizing: border-box;text-align: center;}#sk-container-id-1 label.sk-toggleable__label-arrow:before {content: \"▸\";float: left;margin-right: 0.25em;color: #696969;}#sk-container-id-1 label.sk-toggleable__label-arrow:hover:before {color: black;}#sk-container-id-1 div.sk-estimator:hover label.sk-toggleable__label-arrow:before {color: black;}#sk-container-id-1 div.sk-toggleable__content {max-height: 0;max-width: 0;overflow: hidden;text-align: left;background-color: #f0f8ff;}#sk-container-id-1 div.sk-toggleable__content pre {margin: 0.2em;color: black;border-radius: 0.25em;background-color: #f0f8ff;}#sk-container-id-1 input.sk-toggleable__control:checked~div.sk-toggleable__content {max-height: 200px;max-width: 100%;overflow: auto;}#sk-container-id-1 input.sk-toggleable__control:checked~label.sk-toggleable__label-arrow:before {content: \"▾\";}#sk-container-id-1 div.sk-estimator input.sk-toggleable__control:checked~label.sk-toggleable__label {background-color: #d4ebff;}#sk-container-id-1 div.sk-label input.sk-toggleable__control:checked~label.sk-toggleable__label {background-color: #d4ebff;}#sk-container-id-1 input.sk-hidden--visually {border: 0;clip: rect(1px 1px 1px 1px);clip: rect(1px, 1px, 1px, 1px);height: 1px;margin: -1px;overflow: hidden;padding: 0;position: absolute;width: 1px;}#sk-container-id-1 div.sk-estimator {font-family: monospace;background-color: #f0f8ff;border: 1px dotted black;border-radius: 0.25em;box-sizing: border-box;margin-bottom: 0.5em;}#sk-container-id-1 div.sk-estimator:hover {background-color: #d4ebff;}#sk-container-id-1 div.sk-parallel-item::after {content: \"\";width: 100%;border-bottom: 1px solid gray;flex-grow: 1;}#sk-container-id-1 div.sk-label:hover label.sk-toggleable__label {background-color: #d4ebff;}#sk-container-id-1 div.sk-serial::before {content: \"\";position: absolute;border-left: 1px solid gray;box-sizing: border-box;top: 0;bottom: 0;left: 50%;z-index: 0;}#sk-container-id-1 div.sk-serial {display: flex;flex-direction: column;align-items: center;background-color: white;padding-right: 0.2em;padding-left: 0.2em;position: relative;}#sk-container-id-1 div.sk-item {position: relative;z-index: 1;}#sk-container-id-1 div.sk-parallel {display: flex;align-items: stretch;justify-content: center;background-color: white;position: relative;}#sk-container-id-1 div.sk-item::before, #sk-container-id-1 div.sk-parallel-item::before {content: \"\";position: absolute;border-left: 1px solid gray;box-sizing: border-box;top: 0;bottom: 0;left: 50%;z-index: -1;}#sk-container-id-1 div.sk-parallel-item {display: flex;flex-direction: column;z-index: 1;position: relative;background-color: white;}#sk-container-id-1 div.sk-parallel-item:first-child::after {align-self: flex-end;width: 50%;}#sk-container-id-1 div.sk-parallel-item:last-child::after {align-self: flex-start;width: 50%;}#sk-container-id-1 div.sk-parallel-item:only-child::after {width: 0;}#sk-container-id-1 div.sk-dashed-wrapped {border: 1px dashed gray;margin: 0 0.4em 0.5em 0.4em;box-sizing: border-box;padding-bottom: 0.4em;background-color: white;}#sk-container-id-1 div.sk-label label {font-family: monospace;font-weight: bold;display: inline-block;line-height: 1.2em;}#sk-container-id-1 div.sk-label-container {text-align: center;}#sk-container-id-1 div.sk-container {/* jupyter's `normalize.less` sets `[hidden] { display: none; }` but bootstrap.min.css set `[hidden] { display: none !important; }` so we also need the `!important` here to be able to override the default hidden behavior on the sphinx rendered scikit-learn.org. See: https://github.com/scikit-learn/scikit-learn/issues/21755 */display: inline-block !important;position: relative;}#sk-container-id-1 div.sk-text-repr-fallback {display: none;}</style><div id=\"sk-container-id-1\" class=\"sk-top-container\"><div class=\"sk-text-repr-fallback\"><pre>SVC(kernel=&#x27;linear&#x27;, random_state=0)</pre><b>In a Jupyter environment, please rerun this cell to show the HTML representation or trust the notebook. <br />On GitHub, the HTML representation is unable to render, please try loading this page with nbviewer.org.</b></div><div class=\"sk-container\" hidden><div class=\"sk-item\"><div class=\"sk-estimator sk-toggleable\"><input class=\"sk-toggleable__control sk-hidden--visually\" id=\"sk-estimator-id-1\" type=\"checkbox\" checked><label for=\"sk-estimator-id-1\" class=\"sk-toggleable__label sk-toggleable__label-arrow\">SVC</label><div class=\"sk-toggleable__content\"><pre>SVC(kernel=&#x27;linear&#x27;, random_state=0)</pre></div></div></div></div></div>"
      ],
      "text/plain": [
       "SVC(kernel='linear', random_state=0)"
      ]
     },
     "execution_count": 36,
     "metadata": {},
     "output_type": "execute_result"
    }
   ],
   "source": [
    " #training the model\n",
    "svm.fit(X_train, Y_train)"
   ]
  },
  {
   "cell_type": "code",
   "execution_count": 37,
   "id": "6b2279cd",
   "metadata": {},
   "outputs": [
    {
     "data": {
      "text/plain": [
       "0.7801302931596091"
      ]
     },
     "execution_count": 37,
     "metadata": {},
     "output_type": "execute_result"
    }
   ],
   "source": [
    "#training the model\n",
    "svm.score(X_train, Y_train)"
   ]
  },
  {
   "cell_type": "markdown",
   "id": "33b8ae22",
   "metadata": {},
   "source": [
    "Following the SVM model's training, an assessment is conducted on the training data itself. The training accuracy is calculated as the percentage of correctly predicted labels within the training dataset. In this context, the training accuracy approximates 0.78 (or 78\\%), signifying that the model accurately predicted the class for around 78\\% of the training data."
   ]
  },
  {
   "cell_type": "code",
   "execution_count": 38,
   "id": "4557f183",
   "metadata": {},
   "outputs": [
    {
     "data": {
      "text/plain": [
       "0.7792207792207793"
      ]
     },
     "execution_count": 38,
     "metadata": {},
     "output_type": "execute_result"
    }
   ],
   "source": [
    "#training the model\n",
    "svm.score(X_test, Y_test)"
   ]
  },
  {
   "cell_type": "markdown",
   "id": "42d7d83e",
   "metadata": {},
   "source": [
    "The genuine evaluation of the model's performance occurs on the distinct test dataset, which remained unseen during training. The testing accuracy is the percentage of accurately predicted labels within the test dataset. In this scenario, the testing accuracy stands at approximately 0.77 (or 77.922\\%), indicating that the model correctly predicted the class for about 77.922\\% of the test data."
   ]
  },
  {
   "cell_type": "code",
   "execution_count": 39,
   "id": "20558d99",
   "metadata": {},
   "outputs": [],
   "source": [
    "#predicting outcomes\n",
    "svm_pred = svm.predict(X_test)"
   ]
  },
  {
   "cell_type": "code",
   "execution_count": 40,
   "id": "a6eb8b12",
   "metadata": {},
   "outputs": [
    {
     "data": {
      "image/png": "[encoded data removed]",
      "text/plain": [
       "<Figure size 640x480 with 2 Axes>"
      ]
     },
     "metadata": {},
     "output_type": "display_data"
    }
   ],
   "source": [
    "sns.heatmap(confusion_matrix(Y_test, svm_pred), annot=True, cmap='Blues')\n",
    "plt.xlabel('Predicted Values')\n",
    "plt.ylabel('Actual Values')\n",
    "plt.title('Confusion Matrix for SVM')\n",
    "plt.show()"
   ]
  },
  {
   "cell_type": "code",
   "execution_count": 41,
   "id": "aeb37525",
   "metadata": {},
   "outputs": [
    {
     "name": "stdout",
     "output_type": "stream",
     "text": [
      "              precision    recall  f1-score   support\n",
      "\n",
      "           0       0.78      0.91      0.84       100\n",
      "           1       0.76      0.54      0.63        54\n",
      "\n",
      "    accuracy                           0.78       154\n",
      "   macro avg       0.77      0.72      0.74       154\n",
      "weighted avg       0.78      0.78      0.77       154\n",
      "\n"
     ]
    }
   ],
   "source": [
    "print(classification_report(Y_test, svm_pred))"
   ]
  },
  {
   "cell_type": "code",
   "execution_count": 55,
   "id": "97e6e573",
   "metadata": {},
   "outputs": [
    {
     "data": {
      "text/plain": [
       "array([[91,  9],\n",
       "       [25, 29]])"
      ]
     },
     "execution_count": 55,
     "metadata": {},
     "output_type": "execute_result"
    }
   ],
   "source": [
    "confusion_matrix(Y_test, svm_pred)"
   ]
  },
  {
   "cell_type": "markdown",
   "id": "7271af5f",
   "metadata": {},
   "source": [
    "### Prediction  on dataset"
   ]
  },
  {
   "cell_type": "code",
   "execution_count": 43,
   "id": "4ce95840",
   "metadata": {},
   "outputs": [
    {
     "name": "stdout",
     "output_type": "stream",
     "text": [
      "[[-0.84488505 -1.07448042 -0.51658286 -0.37470037 -0.26510678 -0.6332224\n",
      "  -0.92076261 -1.04154944]]\n",
      "[0]\n",
      "The person is not diabetic\n"
     ]
    },
    {
     "name": "stderr",
     "output_type": "stream",
     "text": [
      "/home/umairchohan/anaconda3/lib/python3.10/site-packages/sklearn/base.py:420: UserWarning: X does not have valid feature names, but StandardScaler was fitted with feature names\n",
      "  warnings.warn(\n"
     ]
    }
   ],
   "source": [
    "inputdata = (1,89.0,66.0,23.0,94.0,28.1,0.167,21)\n",
    "\n",
    "# changing the input_data to numpy array\n",
    "inputdataasnumpyarray = np.asarray(inputdata)\n",
    "\n",
    "# reshape the array as we are predicting for one instance\n",
    "inputdatareshaped = inputdataasnumpyarray.reshape(1,-1)\n",
    "\n",
    "# standardize the input data\n",
    "stddata = scaler.transform(inputdatareshaped)\n",
    "print(stddata)\n",
    "\n",
    "predictions = svm.predict(stddata)\n",
    "print(predictions)\n",
    "\n",
    "if (predictions[0] == 0):\n",
    "  print('The person is not diabetic')\n",
    "else:\n",
    "  print('The person is diabetic')"
   ]
  },
  {
   "cell_type": "markdown",
   "id": "b2702a23",
   "metadata": {},
   "source": [
    "In the given scenario, the input data `inputdata` is a set of feature values for a particular individual, randomly selected from the dataset. The input data contains the following features (in order):\n",
    "\n",
    "- Pregnancies: 1\n",
    "- Glucose: 89.0\n",
    "- BloodPressure: 66.0\n",
    "- SkinThickness: 23.0\n",
    "- Insulin: 94.0\n",
    "- BMI: 28.1\n",
    "- DiabetesPedigreeFunction: 0.167\n",
    "- Age: 21\n",
    "\n",
    "These feature values are used to make predictions about whether the person is diabetic (`Outcome` = 1) or not diabetic (`Outcome` = 0).\n",
    "\n",
    "The prediction `[0]` confirms that the person is not diabetic according to the model's decision boundary.\n",
    "\n",
    "The classifier correctly predicted that the person is not diabetic, and the prediction is consistent with the actual outcome in the dataset. This indicates that the model is performing reasonably well on this particular instance."
   ]
  },
  {
   "cell_type": "markdown",
   "id": "76dac51e",
   "metadata": {},
   "source": []
  },
  {
   "cell_type": "markdown",
   "id": "1d9035ec",
   "metadata": {},
   "source": []
  },
  {
   "cell_type": "markdown",
   "id": "3cfd9076",
   "metadata": {},
   "source": [
    "# Naive Bayes"
   ]
  },
  {
   "cell_type": "code",
   "execution_count": 44,
   "id": "b409ce96",
   "metadata": {},
   "outputs": [
    {
     "name": "stdout",
     "output_type": "stream",
     "text": [
      "Naive Bayes Test Data Accuracy: 0.7272727272727273\n",
      "Naive Bayes Training Data Accuracy: 0.752442996742671\n"
     ]
    }
   ],
   "source": [
    "# Create an instance of the Gaussian Naive Bayes classifier\n",
    "nb_classifier = GaussianNB()\n",
    "\n",
    "# Fit the model to the training data\n",
    "nb_classifier.fit(X_train, Y_train)\n",
    "\n",
    "# Make predictions on the training data\n",
    "X_train_prediction = nb_classifier.predict(X_train)\n",
    "training_data_accuracy = accuracy_score(X_train_prediction, Y_train)\n",
    "\n",
    "# Make predictions on the test data\n",
    "X_test_prediction = nb_classifier.predict(X_test)\n",
    "test_data_accuracy = accuracy_score(X_test_prediction, Y_test)\n",
    "\n",
    "print(\"Naive Bayes Test Data Accuracy:\", test_data_accuracy)\n",
    "print(\"Naive Bayes Training Data Accuracy:\", training_data_accuracy)\n"
   ]
  },
  {
   "cell_type": "markdown",
   "id": "3e2c26ab",
   "metadata": {},
   "source": [
    "A training data accuracy of 0.75 suggests that the Naive Bayes classifier has learned patterns within the training dataset, enabling it to predict the class labels of instances it has already encountered."
   ]
  },
  {
   "cell_type": "markdown",
   "id": "8c4233a6",
   "metadata": {},
   "source": [
    "The reported test data accuracy of 0.73 and training data accuracy of 0.75 provide insights into the Naive Bayes classifier's performance on both unseen and training data, respectively. The evaluation of these accuracies helps in assessing the classifier's ability to generalize and make accurate predictions"
   ]
  },
  {
   "cell_type": "code",
   "execution_count": 46,
   "id": "6525d0d1",
   "metadata": {},
   "outputs": [
    {
     "name": "stdout",
     "output_type": "stream",
     "text": [
      "              precision    recall  f1-score   support\n",
      "\n",
      "           0       0.75      0.86      0.80       100\n",
      "           1       0.65      0.48      0.55        54\n",
      "\n",
      "    accuracy                           0.73       154\n",
      "   macro avg       0.70      0.67      0.68       154\n",
      "weighted avg       0.72      0.73      0.72       154\n",
      "\n"
     ]
    }
   ],
   "source": [
    "\n",
    "print(classification_report(Y_test, X_test_prediction))"
   ]
  },
  {
   "cell_type": "code",
   "execution_count": 47,
   "id": "06ccf478",
   "metadata": {},
   "outputs": [
    {
     "data": {
      "image/png": "[encoded data removed]",
      "text/plain": [
       "<Figure size 640x480 with 2 Axes>"
      ]
     },
     "metadata": {},
     "output_type": "display_data"
    }
   ],
   "source": [
    "\n",
    "sns.heatmap(confusion_matrix(Y_test,  X_test_prediction), annot=True, cmap='Blues')\n",
    "plt.xlabel('Predicted Values')\n",
    "plt.ylabel('Actual Values')\n",
    "plt.title('Confusion Matrix for SVM')\n",
    "plt.show()"
   ]
  },
  {
   "cell_type": "markdown",
   "id": "85ec15b3",
   "metadata": {},
   "source": [
    "The confusion matrix provides a granular view of the classifier's behavior, particularly its ability to correctly identify positive instances (sensitivity) and negative instances (specificity). These metrics offer insights into the classifier's strengths and weaknesses and are crucial for assessing its suitability for the specific task."
   ]
  },
  {
   "cell_type": "markdown",
   "id": "dea03968",
   "metadata": {},
   "source": [
    "### Prediction  on dataset"
   ]
  },
  {
   "cell_type": "code",
   "execution_count": 45,
   "id": "5dcd022b",
   "metadata": {},
   "outputs": [
    {
     "name": "stdout",
     "output_type": "stream",
     "text": [
      "The person is not diabetic\n"
     ]
    },
    {
     "name": "stderr",
     "output_type": "stream",
     "text": [
      "/home/umairchohan/anaconda3/lib/python3.10/site-packages/sklearn/base.py:420: UserWarning: X does not have valid feature names, but StandardScaler was fitted with feature names\n",
      "  warnings.warn(\n"
     ]
    }
   ],
   "source": [
    "\n",
    "\n",
    "# Input data for prediction\n",
    "input_data = (1,89.0,66.0,23.0,94.0,28.1,0.167,21)\n",
    "\n",
    "# Changing the input_data to numpy array\n",
    "input_data_as_numpy_array = np.asarray(input_data)\n",
    "\n",
    "# Reshape the array as we are predicting for one instance\n",
    "input_data_reshaped = input_data_as_numpy_array.reshape(1, -1)\n",
    "\n",
    "# Standardize the input data using the same scaler\n",
    "std_data = scaler.transform(input_data_reshaped)\n",
    "\n",
    "# Make predictions using the trained Naive Bayes classifier\n",
    "predictions = nb_classifier.predict(std_data)\n",
    "\n",
    "if predictions[0] == 0:\n",
    "    print('The person is not diabetic')\n",
    "else:\n",
    "    print('The person is diabetic')\n"
   ]
  },
  {
   "cell_type": "markdown",
   "id": "71385d8a",
   "metadata": {},
   "source": [
    "# Diabetes Prediction using a Trained Model\n",
    "\n",
    "In this section, we analyze the prediction made by our trained model for a specific individual based on their feature values. The goal is to determine whether the individual is diabetic (`Outcome` = 1) or not diabetic (`Outcome` = 0).\n",
    "\n",
    "## Input Data\n",
    "\n",
    "The input data, denoted as `inputdata`, represents the feature values of a particular individual, randomly selected from our dataset. The features, in order, include:\n",
    "\n",
    "- Pregnancies: 1\n",
    "- Glucose: 89.0\n",
    "- BloodPressure: 66.0\n",
    "- SkinThickness: 23.0\n",
    "- Insulin: 94.0\n",
    "- BMI: 28.1\n",
    "- DiabetesPedigreeFunction: 0.167\n",
    "- Age: 21\n",
    "\n",
    "## Prediction\n",
    "\n",
    "Our trained model produces a prediction based on these input features. The result of the prediction is `[0]`, indicating that the model predicts the individual to be not diabetic.\n",
    "\n",
    "## Model Performance\n",
    "\n",
    "The prediction `[0]` aligns with the model's decision boundary. In this case, it confirms that, according to our model's analysis of the provided features, the individual is not diabetic.\n",
    "\n",
    "This prediction is consistent with the actual outcome recorded in the dataset, suggesting that the model is performing reasonably well on this specific instance.\n"
   ]
  },
  {
   "cell_type": "code",
   "execution_count": 48,
   "id": "4e50ff2f",
   "metadata": {},
   "outputs": [
    {
     "name": "stdout",
     "output_type": "stream",
     "text": [
      "Confusion Matrix:\n",
      "[[86 14]\n",
      " [28 26]]\n"
     ]
    }
   ],
   "source": [
    "cm = confusion_matrix(Y_test, X_test_prediction)\n",
    "\n",
    "# Display the confusion matrix as a matrix of values\n",
    "print(\"Confusion Matrix:\")\n",
    "print(cm)"
   ]
  },
  {
   "cell_type": "markdown",
   "id": "fc8db2d8",
   "metadata": {},
   "source": [
    "# Logistics Regression"
   ]
  },
  {
   "cell_type": "code",
   "execution_count": 53,
   "id": "ed71b44d",
   "metadata": {},
   "outputs": [
    {
     "data": {
      "text/plain": [
       "0.7817589576547231"
      ]
     },
     "execution_count": 53,
     "metadata": {},
     "output_type": "execute_result"
    }
   ],
   "source": [
    "\n",
    "\n",
    "clf = LogisticRegression(max_iter=100, multi_class=\"ovr\", penalty=\"l1\", solver=\"saga\")\n",
    "clf.fit(X_train, Y_train)\n",
    "\n",
    "#training accuracy\n",
    "clf.score(X_train,Y_train)\n"
   ]
  },
  {
   "cell_type": "markdown",
   "id": "915f1b58",
   "metadata": {},
   "source": [
    "A training accuracy of 0.782 indicates that the Logistic Regression model has learned patterns and relationships present in the training data. It has achieved a level of proficiency in making accurate predictions for instances it has encountered during training."
   ]
  },
  {
   "cell_type": "code",
   "execution_count": 54,
   "id": "715d1507",
   "metadata": {},
   "outputs": [
    {
     "data": {
      "text/plain": [
       "0.7727272727272727"
      ]
     },
     "execution_count": 54,
     "metadata": {},
     "output_type": "execute_result"
    }
   ],
   "source": [
    "clf.score(X_test,Y_test)"
   ]
  },
  {
   "cell_type": "markdown",
   "id": "6b96e9af",
   "metadata": {},
   "source": [
    "The logistic regression model with L1 penalty and solver 'saga' achieved an accuracy of 0.782 on the training data and 0.773 on the test data. These scores demonstrate the model's ability to learn from the training data and generalize well to new, unseen data."
   ]
  },
  {
   "cell_type": "code",
   "execution_count": 51,
   "id": "15571869",
   "metadata": {},
   "outputs": [],
   "source": [
    "#predicted outcomes\n",
    "clf_pred = clf.predict(X_test)"
   ]
  },
  {
   "cell_type": "code",
   "execution_count": 52,
   "id": "1ef3a3f1",
   "metadata": {},
   "outputs": [
    {
     "data": {
      "image/png": "[encoded data removed]",
      "text/plain": [
       "<Figure size 640x480 with 2 Axes>"
      ]
     },
     "metadata": {},
     "output_type": "display_data"
    }
   ],
   "source": [
    "\n",
    "sns.heatmap(confusion_matrix(Y_test, clf_pred), annot=True, cmap='Blues')\n",
    "plt.xlabel('Predicted Values')\n",
    "plt.ylabel('Actual Values')\n",
    "plt.title('Confusion Matrix for Logistic Regression')\n",
    "plt.show()"
   ]
  },
  {
   "cell_type": "code",
   "execution_count": 53,
   "id": "55190dcc",
   "metadata": {},
   "outputs": [
    {
     "name": "stdout",
     "output_type": "stream",
     "text": [
      "              precision    recall  f1-score   support\n",
      "\n",
      "           0       0.78      0.90      0.84       100\n",
      "           1       0.74      0.54      0.62        54\n",
      "\n",
      "    accuracy                           0.77       154\n",
      "   macro avg       0.76      0.72      0.73       154\n",
      "weighted avg       0.77      0.77      0.76       154\n",
      "\n"
     ]
    }
   ],
   "source": [
    "from sklearn.metrics import classification_report\n",
    "print(classification_report(Y_test,clf_pred))"
   ]
  },
  {
   "cell_type": "code",
   "execution_count": null,
   "id": "bfdb787b",
   "metadata": {},
   "outputs": [],
   "source": []
  },
  {
   "cell_type": "code",
   "execution_count": 54,
   "id": "0b317f4d",
   "metadata": {},
   "outputs": [
    {
     "name": "stdout",
     "output_type": "stream",
     "text": [
      "[[-0.84488505 -1.07448042 -0.51658286 -0.37470037 -0.26510678 -0.6332224\n",
      "  -0.92076261 -1.04154944]]\n",
      "[0]\n",
      "The person is not diabetic\n"
     ]
    },
    {
     "name": "stderr",
     "output_type": "stream",
     "text": [
      "/home/umairchohan/anaconda3/lib/python3.10/site-packages/sklearn/base.py:420: UserWarning: X does not have valid feature names, but StandardScaler was fitted with feature names\n",
      "  warnings.warn(\n"
     ]
    }
   ],
   "source": [
    "input_data = (1,89.0,66.0,23.0,94.0,28.1,0.167,21)\n",
    "\n",
    "# changing the input_data to numpy array\n",
    "input_data_as_numpy_array = np.asarray(input_data)\n",
    "\n",
    "# reshape the array as we are predicting for one instance\n",
    "input_data_reshaped = input_data_as_numpy_array.reshape(1,-1)\n",
    "\n",
    "# standardize the input data\n",
    "std_data = scaler.transform(input_data_reshaped)\n",
    "print(std_data)\n",
    "\n",
    "prediction =clf.predict(std_data)\n",
    "print(prediction)\n",
    "\n",
    "if (prediction[0] == 0):\n",
    "  print('The person is not diabetic')\n",
    "else:\n",
    "  print('The person is diabetic')"
   ]
  },
  {
   "cell_type": "markdown",
   "id": "deb1a59c",
   "metadata": {},
   "source": [
    "# Diabetes Prediction using Logistic Regression\n",
    "\n",
    "In this section, we present the result of applying the trained logistic regression model to predict diabetes for a given input data point.\n",
    "\n",
    "## Input Data\n",
    "\n",
    "The input data for the prediction is as follows:\n",
    "\n",
    "- Pregnancies: 2\n",
    "- Glucose: 19.70\n",
    "- BloodPressure: 70.0\n",
    "- SkinThickness: 45.0\n",
    "- Insulin: 543.0\n",
    "- BMI: 30.5\n",
    "- DiabetesPedigreeFunction: 0.158\n",
    "- Age: 53\n",
    "\n",
    "## Prediction\n",
    "\n",
    "The trained logistic regression model yielded the following output:\n",
    "[[-0.84488505 -1.07448042 -0.51658286 -0.37470037 -0.26510678 -0.6332224\n",
    "  -0.92076261 -1.04154944]]\n",
    "\n",
    "[0]\n",
    "The person is not diabetic"
   ]
  },
  {
   "cell_type": "code",
   "execution_count": null,
   "id": "221d78df",
   "metadata": {},
   "outputs": [],
   "source": []
  },
  {
   "cell_type": "code",
   "execution_count": null,
   "id": "97b1cba3",
   "metadata": {},
   "outputs": [],
   "source": []
  }
 ],
 "metadata": {
  "kernelspec": {
   "display_name": "Python 3 (ipykernel)",
   "language": "python",
   "name": "python3"
  },
  "language_info": {
   "codemirror_mode": {
    "name": "ipython",
    "version": 3
   },
   "file_extension": ".py",
   "mimetype": "text/x-python",
   "name": "python",
   "nbconvert_exporter": "python",
   "pygments_lexer": "ipython3",
   "version": "3.10.13"
  }
 },
 "nbformat": 4,
 "nbformat_minor": 5
}
